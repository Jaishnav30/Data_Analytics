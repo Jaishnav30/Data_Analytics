{
 "cells": [
  {
   "cell_type": "code",
   "execution_count": 27,
   "metadata": {},
   "outputs": [],
   "source": [
    "import pandas as pd\n",
    "import numpy as np"
   ]
  },
  {
   "cell_type": "code",
   "execution_count": 28,
   "metadata": {},
   "outputs": [
    {
     "data": {
      "text/html": [
       "<div>\n",
       "<style scoped>\n",
       "    .dataframe tbody tr th:only-of-type {\n",
       "        vertical-align: middle;\n",
       "    }\n",
       "\n",
       "    .dataframe tbody tr th {\n",
       "        vertical-align: top;\n",
       "    }\n",
       "\n",
       "    .dataframe thead th {\n",
       "        text-align: right;\n",
       "    }\n",
       "</style>\n",
       "<table border=\"1\" class=\"dataframe\">\n",
       "  <thead>\n",
       "    <tr style=\"text-align: right;\">\n",
       "      <th></th>\n",
       "      <th>0</th>\n",
       "      <th>1</th>\n",
       "      <th>2</th>\n",
       "      <th>3</th>\n",
       "    </tr>\n",
       "  </thead>\n",
       "  <tbody>\n",
       "    <tr>\n",
       "      <th>0</th>\n",
       "      <td>0.962693</td>\n",
       "      <td>0.849255</td>\n",
       "      <td>0.807707</td>\n",
       "      <td>0.308559</td>\n",
       "    </tr>\n",
       "    <tr>\n",
       "      <th>1</th>\n",
       "      <td>0.499670</td>\n",
       "      <td>0.063413</td>\n",
       "      <td>0.436689</td>\n",
       "      <td>0.892610</td>\n",
       "    </tr>\n",
       "    <tr>\n",
       "      <th>2</th>\n",
       "      <td>0.214733</td>\n",
       "      <td>0.292073</td>\n",
       "      <td>0.209443</td>\n",
       "      <td>0.420002</td>\n",
       "    </tr>\n",
       "    <tr>\n",
       "      <th>3</th>\n",
       "      <td>0.542132</td>\n",
       "      <td>0.151716</td>\n",
       "      <td>0.406567</td>\n",
       "      <td>0.705961</td>\n",
       "    </tr>\n",
       "    <tr>\n",
       "      <th>4</th>\n",
       "      <td>0.927824</td>\n",
       "      <td>0.343530</td>\n",
       "      <td>0.660667</td>\n",
       "      <td>0.721362</td>\n",
       "    </tr>\n",
       "  </tbody>\n",
       "</table>\n",
       "</div>"
      ],
      "text/plain": [
       "          0         1         2         3\n",
       "0  0.962693  0.849255  0.807707  0.308559\n",
       "1  0.499670  0.063413  0.436689  0.892610\n",
       "2  0.214733  0.292073  0.209443  0.420002\n",
       "3  0.542132  0.151716  0.406567  0.705961\n",
       "4  0.927824  0.343530  0.660667  0.721362"
      ]
     },
     "execution_count": 28,
     "metadata": {},
     "output_type": "execute_result"
    }
   ],
   "source": [
    "df = pd.DataFrame(np.random.rand(50,4), index = np.arange(50))\n",
    "df.head()"
   ]
  },
  {
   "cell_type": "code",
   "execution_count": null,
   "metadata": {},
   "outputs": [
    {
     "name": "stderr",
     "output_type": "stream",
     "text": [
      "C:\\Users\\jaish\\AppData\\Local\\Temp\\ipykernel_8544\\1405053096.py:13: FutureWarning: Setting an item of incompatible dtype is deprecated and will raise an error in a future version of pandas. Value 'Jaishnav' has dtype incompatible with float64, please explicitly cast to a compatible dtype first.\n",
      "  df.loc[0,\"b\"] = \"Jaishnav\"\n"
     ]
    },
    {
     "data": {
      "text/html": [
       "<div>\n",
       "<style scoped>\n",
       "    .dataframe tbody tr th:only-of-type {\n",
       "        vertical-align: middle;\n",
       "    }\n",
       "\n",
       "    .dataframe tbody tr th {\n",
       "        vertical-align: top;\n",
       "    }\n",
       "\n",
       "    .dataframe thead th {\n",
       "        text-align: right;\n",
       "    }\n",
       "</style>\n",
       "<table border=\"1\" class=\"dataframe\">\n",
       "  <thead>\n",
       "    <tr style=\"text-align: right;\">\n",
       "      <th></th>\n",
       "      <th>b</th>\n",
       "      <th>d</th>\n",
       "    </tr>\n",
       "  </thead>\n",
       "  <tbody>\n",
       "    <tr>\n",
       "      <th>0</th>\n",
       "      <td>Jaishnav</td>\n",
       "      <td>0.308559</td>\n",
       "    </tr>\n",
       "    <tr>\n",
       "      <th>4</th>\n",
       "      <td>0.34353</td>\n",
       "      <td>0.721362</td>\n",
       "    </tr>\n",
       "  </tbody>\n",
       "</table>\n",
       "</div>"
      ],
      "text/plain": [
       "          b         d\n",
       "0  Jaishnav  0.308559\n",
       "4   0.34353  0.721362"
      ]
     },
     "execution_count": 29,
     "metadata": {},
     "output_type": "execute_result"
    }
   ],
   "source": [
    "# df.describe() -> describes dataframe i.e. gives some stat related to dataframe\n",
    "# df.dtypes     -> mentions data types of each column\n",
    "# df.to_numpy() -> converts dataframe to numpy array\n",
    "# df.T          -> Transpose Dataframe\n",
    "# loc -> index_name based cell retriving\n",
    "# slicing:\n",
    "# df.loc[row_index_name, col_name] -> retrives that cell's data\n",
    "# df.loc[[r1,r2],[c1,c2]]] -> retrives a particular dataframe from the og\n",
    "# df.loc[ : ,[c1,c2]]] -> all rows of c1 and c2\n",
    "# df.loc[[r1,r2] , : ] -> all columns of r1 and r2\n",
    "\n",
    "df.columns = list(\"abcd\")\n",
    "\n",
    "df.loc[0,\"b\"] = \"Jaishnav\"\n",
    "df.head()\n",
    "\n",
    "df.loc[[0,4],[\"b\",\"d\"]]"
   ]
  },
  {
   "cell_type": "code",
   "execution_count": 51,
   "metadata": {},
   "outputs": [
    {
     "data": {
      "text/html": [
       "<div>\n",
       "<style scoped>\n",
       "    .dataframe tbody tr th:only-of-type {\n",
       "        vertical-align: middle;\n",
       "    }\n",
       "\n",
       "    .dataframe tbody tr th {\n",
       "        vertical-align: top;\n",
       "    }\n",
       "\n",
       "    .dataframe thead th {\n",
       "        text-align: right;\n",
       "    }\n",
       "</style>\n",
       "<table border=\"1\" class=\"dataframe\">\n",
       "  <thead>\n",
       "    <tr style=\"text-align: right;\">\n",
       "      <th></th>\n",
       "      <th>index</th>\n",
       "      <th>a</th>\n",
       "      <th>b</th>\n",
       "      <th>c</th>\n",
       "    </tr>\n",
       "  </thead>\n",
       "  <tbody>\n",
       "    <tr>\n",
       "      <th>0</th>\n",
       "      <td>0</td>\n",
       "      <td>0.962693</td>\n",
       "      <td>Jaishnav</td>\n",
       "      <td>0.807707</td>\n",
       "    </tr>\n",
       "    <tr>\n",
       "      <th>1</th>\n",
       "      <td>2</td>\n",
       "      <td>0.214733</td>\n",
       "      <td>0.292073</td>\n",
       "      <td>0.209443</td>\n",
       "    </tr>\n",
       "    <tr>\n",
       "      <th>2</th>\n",
       "      <td>4</td>\n",
       "      <td>0.927824</td>\n",
       "      <td>0.34353</td>\n",
       "      <td>0.660667</td>\n",
       "    </tr>\n",
       "    <tr>\n",
       "      <th>3</th>\n",
       "      <td>5</td>\n",
       "      <td>0.211361</td>\n",
       "      <td>0.85415</td>\n",
       "      <td>0.400106</td>\n",
       "    </tr>\n",
       "    <tr>\n",
       "      <th>4</th>\n",
       "      <td>6</td>\n",
       "      <td>0.970543</td>\n",
       "      <td>0.16821</td>\n",
       "      <td>0.341756</td>\n",
       "    </tr>\n",
       "  </tbody>\n",
       "</table>\n",
       "</div>"
      ],
      "text/plain": [
       "   index         a         b         c\n",
       "0      0  0.962693  Jaishnav  0.807707\n",
       "1      2  0.214733  0.292073  0.209443\n",
       "2      4  0.927824   0.34353  0.660667\n",
       "3      5  0.211361   0.85415  0.400106\n",
       "4      6  0.970543   0.16821  0.341756"
      ]
     },
     "execution_count": 51,
     "metadata": {},
     "output_type": "execute_result"
    }
   ],
   "source": [
    "# df.drop(index_name or list of them, axis=0/1) -> to delete a particular column or row \n",
    "# df = df.drop(\"d\", axis=1) # or use df.drop(\"d\", axis=1, inplace=True)\n",
    "# df.reset_index(drop=True, inplace=True) -> resets index and drops the additional index column created\n",
    "\n",
    "df.reset_index(drop=True, inplace=True)\n",
    "df.head()"
   ]
  },
  {
   "cell_type": "code",
   "execution_count": null,
   "metadata": {},
   "outputs": [
    {
     "data": {
      "text/plain": [
       "0.4366892660576256"
      ]
     },
     "execution_count": 35,
     "metadata": {},
     "output_type": "execute_result"
    }
   ],
   "source": [
    "# iloc -> index_number based cell retriving\n",
    "# df.iloc[r_index, c_index]\n",
    "df.iloc[1,2]\n",
    "# same kind of slicing can be done with iloc how it was done in loc"
   ]
  },
  {
   "cell_type": "code",
   "execution_count": null,
   "metadata": {},
   "outputs": [],
   "source": []
  }
 ],
 "metadata": {
  "kernelspec": {
   "display_name": "base",
   "language": "python",
   "name": "python3"
  },
  "language_info": {
   "codemirror_mode": {
    "name": "ipython",
    "version": 3
   },
   "file_extension": ".py",
   "mimetype": "text/x-python",
   "name": "python",
   "nbconvert_exporter": "python",
   "pygments_lexer": "ipython3",
   "version": "3.12.4"
  }
 },
 "nbformat": 4,
 "nbformat_minor": 2
}
